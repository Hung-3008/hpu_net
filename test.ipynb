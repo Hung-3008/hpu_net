{
 "cells": [
  {
   "cell_type": "code",
   "execution_count": 1,
   "metadata": {},
   "outputs": [
    {
     "name": "stdout",
     "output_type": "stream",
     "text": [
      "Output shape: torch.Size([1, 2, 128, 128])\n"
     ]
    }
   ],
   "source": [
    "import torch\n",
    "from model import HierarchicalProbUNet\n",
    "\n",
    "# Simple usage test\n",
    "model = HierarchicalProbUNet()\n",
    "x = torch.randn(1, 1, 128, 128)   # Example input (B=1, C=1, H=128, W=128)\n",
    "output = model(x)\n",
    "\n",
    "print(\"Output shape:\", output.shape)"
   ]
  }
 ],
 "metadata": {
  "kernelspec": {
   "display_name": "sfda",
   "language": "python",
   "name": "python3"
  },
  "language_info": {
   "codemirror_mode": {
    "name": "ipython",
    "version": 3
   },
   "file_extension": ".py",
   "mimetype": "text/x-python",
   "name": "python",
   "nbconvert_exporter": "python",
   "pygments_lexer": "ipython3",
   "version": "3.9.0"
  }
 },
 "nbformat": 4,
 "nbformat_minor": 2
}
