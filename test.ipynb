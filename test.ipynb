{
 "cells": [
  {
   "cell_type": "markdown",
   "metadata": {},
   "source": [
    "## EDA dataset"
   ]
  },
  {
   "cell_type": "code",
   "execution_count": 1,
   "metadata": {},
   "outputs": [],
   "source": [
    "import torch\n",
    "import matplotlib.pyplot as plt\n",
    "import numpy as np \n",
    "from torch.utils.data import DataLoader\n",
    "from dataset_ACDC import ACDCdataset\n",
    "\n",
    "\n",
    "train_data = ACDCdataset(base_dir='datasets/ACDC', list_dir='datasets/ACDC/lists_ACDC', split='train')\n",
    "train_loader = DataLoader(train_data, batch_size=2, shuffle=True, num_workers=4)"
   ]
  },
  {
   "cell_type": "code",
   "execution_count": 2,
   "metadata": {},
   "outputs": [
    {
     "name": "stdout",
     "output_type": "stream",
     "text": [
      "Image shape: torch.Size([2, 1, 256, 256])\n",
      "Mask shape: torch.Size([2, 256, 256])\n"
     ]
    }
   ],
   "source": [
    "sample_batch = next(iter(train_loader))\n",
    "images = sample_batch['image']\n",
    "masks = sample_batch['label']\n",
    "\n",
    "print(f'Image shape: {images.shape}')\n",
    "print(f'Mask shape: {masks.shape}')"
   ]
  },
  {
   "cell_type": "code",
   "execution_count": 7,
   "metadata": {},
   "outputs": [
    {
     "name": "stdout",
     "output_type": "stream",
     "text": [
      "Analyzing dataset dimensions...\n",
      "Dataset analysis complete. Found 1304 samples.\n",
      "Image shapes: {torch.Size([1, 256, 256])}\n",
      "Mask shapes: {torch.Size([256, 256])}\n",
      "Unique class labels: [0, 1, 2, 3]\n",
      "✓ CONSISTENT: All images and masks have consistent shapes.\n"
     ]
    }
   ],
   "source": [
    "# Check the channels/dimensions of all images and labels in the training set\n",
    "def check_dataset_dimensions(dataloader):\n",
    "    \"\"\"\n",
    "    Check dimensions and consistency of all samples in a dataloader.\n",
    "    \n",
    "    Parameters:\n",
    "    -----------\n",
    "    dataloader : torch.utils.data.DataLoader\n",
    "        The dataloader to check\n",
    "        \n",
    "    Returns:\n",
    "    --------\n",
    "    dict\n",
    "        Statistics about the dataset dimensions\n",
    "    \"\"\"\n",
    "    image_shapes = []\n",
    "    mask_shapes = []\n",
    "    unique_classes = set()\n",
    "    sample_count = 0\n",
    "    \n",
    "    print(\"Analyzing dataset dimensions...\")\n",
    "    \n",
    "    for batch in dataloader:\n",
    "        images = batch['image']\n",
    "        masks = batch['label']\n",
    "        \n",
    "        batch_size = images.shape[0]\n",
    "        sample_count += batch_size\n",
    "        \n",
    "        # Track all shapes\n",
    "        for i in range(batch_size):\n",
    "            image_shapes.append(images[i].shape)\n",
    "            mask_shapes.append(masks[i].shape)\n",
    "            unique_classes.update(np.unique(masks[i].numpy()).tolist())\n",
    "    \n",
    "    # Count and report unique shapes\n",
    "    unique_img_shapes = set(image_shapes)\n",
    "    unique_mask_shapes = set(mask_shapes)\n",
    "    \n",
    "    results = {\n",
    "        \"total_samples\": sample_count,\n",
    "        \"unique_image_shapes\": unique_img_shapes,\n",
    "        \"unique_mask_shapes\": unique_mask_shapes,\n",
    "        \"unique_classes\": sorted(list(unique_classes))\n",
    "    }\n",
    "    \n",
    "    # Print summary\n",
    "    print(f\"Dataset analysis complete. Found {sample_count} samples.\")\n",
    "    print(f\"Image shapes: {unique_img_shapes}\")\n",
    "    print(f\"Mask shapes: {unique_mask_shapes}\")\n",
    "    print(f\"Unique class labels: {sorted(list(unique_classes))}\")\n",
    "    \n",
    "    if len(unique_img_shapes) == 1 and len(unique_mask_shapes) == 1:\n",
    "        print(\"✓ CONSISTENT: All images and masks have consistent shapes.\")\n",
    "    else:\n",
    "        print(\"⚠ INCONSISTENT: Found multiple image or mask shapes.\")\n",
    "    \n",
    "    return results\n",
    "\n",
    "# Run the analysis on the training dataset\n",
    "results = check_dataset_dimensions(train_loader)"
   ]
  },
  {
   "cell_type": "code",
   "execution_count": 8,
   "metadata": {},
   "outputs": [
    {
     "name": "stdout",
     "output_type": "stream",
     "text": [
      "Analyzing dataset dimensions...\n",
      "Dataset analysis complete. Found 182 samples.\n",
      "Image shapes: {torch.Size([1, 256, 256])}\n",
      "Mask shapes: {torch.Size([256, 256])}\n",
      "Unique class labels: [0, 1, 2, 3]\n",
      "✓ CONSISTENT: All images and masks have consistent shapes.\n"
     ]
    }
   ],
   "source": [
    "val_data = ACDCdataset(base_dir='datasets/ACDC', list_dir='datasets/ACDC/lists_ACDC', split='valid')\n",
    "val_loader = DataLoader(val_data, batch_size=2, shuffle=True, num_workers=4)\n",
    "\n",
    "# Run the analysis on the validation dataset\n",
    "results_val = check_dataset_dimensions(val_loader)"
   ]
  }
 ],
 "metadata": {
  "kernelspec": {
   "display_name": "sfda",
   "language": "python",
   "name": "python3"
  },
  "language_info": {
   "codemirror_mode": {
    "name": "ipython",
    "version": 3
   },
   "file_extension": ".py",
   "mimetype": "text/x-python",
   "name": "python",
   "nbconvert_exporter": "python",
   "pygments_lexer": "ipython3",
   "version": "3.9.0"
  }
 },
 "nbformat": 4,
 "nbformat_minor": 2
}
